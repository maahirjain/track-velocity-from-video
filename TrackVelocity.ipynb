{
 "cells": [
  {
   "cell_type": "code",
   "execution_count": null,
   "id": "0c0fddee-1ed7-4238-9655-f868251c9f88",
   "metadata": {
    "id": "0c0fddee-1ed7-4238-9655-f868251c9f88"
   },
   "outputs": [],
   "source": [
    "!pip install pip==21.3.1\n",
    "!pip install mediapipe-model-maker\n",
    "!pip install mediapipe opencv-python\n",
    "!pip install pandas\n",
    "!pip install matplotlib\n",
    "!pip install openpyxl"
   ]
  },
  {
   "cell_type": "code",
   "execution_count": null,
   "id": "dc0513da-9a4c-42f9-b3e3-a561fc7aa95d",
   "metadata": {
    "id": "dc0513da-9a4c-42f9-b3e3-a561fc7aa95d"
   },
   "outputs": [],
   "source": [
    "!mkdir output\n",
    "!mkdir output/frames"
   ]
  },
  {
   "cell_type": "code",
   "execution_count": null,
   "id": "8e95e138-4fc6-46f4-96a6-e6c8b0cae754",
   "metadata": {
    "id": "8e95e138-4fc6-46f4-96a6-e6c8b0cae754"
   },
   "outputs": [],
   "source": [
    "import cv2\n",
    "import mediapipe as mp\n",
    "import pandas as pd\n",
    "import matplotlib.pyplot as plt"
   ]
  },
  {
   "cell_type": "code",
   "execution_count": null,
   "id": "1171831e-5e49-4ac0-b313-6a6509e01d2b",
   "metadata": {
    "id": "1171831e-5e49-4ac0-b313-6a6509e01d2b"
   },
   "outputs": [],
   "source": [
    "def getX(landmarks, xValues):\n",
    "  for idx, landmark in enumerate(landmarks):\n",
    "    if mp_pose.PoseLandmark(idx).name == \"LEFT_HIP\":\n",
    "      xValues.append(landmark.x)"
   ]
  },
  {
   "cell_type": "code",
   "execution_count": null,
   "id": "2679a8b1-edbf-4c75-a450-ee27c651fc40",
   "metadata": {
    "id": "2679a8b1-edbf-4c75-a450-ee27c651fc40"
   },
   "outputs": [],
   "source": [
    "video_path = './input.mp4'"
   ]
  },
  {
   "cell_type": "code",
   "execution_count": null,
   "id": "a87d08fd-2288-4bf4-925a-a897388b734c",
   "metadata": {
    "id": "a87d08fd-2288-4bf4-925a-a897388b734c"
   },
   "outputs": [],
   "source": [
    "mp_pose = mp.solutions.pose\n",
    "mp_drawing = mp.solutions.drawing_utils\n",
    "pose = mp_pose.Pose()"
   ]
  },
  {
   "cell_type": "code",
   "execution_count": null,
   "id": "60ca2a73-6571-437f-b013-b7e7c051863e",
   "metadata": {
    "id": "60ca2a73-6571-437f-b013-b7e7c051863e"
   },
   "outputs": [],
   "source": [
    "cap = cv2.VideoCapture(video_path)"
   ]
  },
  {
   "cell_type": "code",
   "execution_count": null,
   "id": "37edfacb-9c76-461a-a69b-639260462bf9",
   "metadata": {
    "colab": {
     "base_uri": "https://localhost:8080/"
    },
    "id": "37edfacb-9c76-461a-a69b-639260462bf9",
    "outputId": "5d6c2f41-eb9c-43d6-a3cc-eae7e187d330"
   },
   "outputs": [],
   "source": [
    "frame_number = 0\n",
    "xValues = []\n",
    "\n",
    "while cap.isOpened():\n",
    "    ret, frame = cap.read()\n",
    "    if not ret:\n",
    "        break\n",
    "\n",
    "    frame_rgb = cv2.cvtColor(frame, cv2.COLOR_BGR2RGB)\n",
    "\n",
    "    result = pose.process(frame_rgb)\n",
    "\n",
    "    if result.pose_landmarks:\n",
    "        mp_drawing.draw_landmarks(frame, result.pose_landmarks, mp_pose.POSE_CONNECTIONS)\n",
    "        getX(result.pose_landmarks.landmark, xValues)\n",
    "\n",
    "    if cv2.waitKey(1) & 0xFF == ord('q'):\n",
    "        break\n",
    "\n",
    "    frame_number += 1\n",
    "\n",
    "    cv2.imwrite('./output/frames/frame' + str(frame_number) + '.png', frame)\n",
    "\n",
    "cv2.destroyAllWindows()"
   ]
  },
  {
   "cell_type": "code",
   "execution_count": null,
   "id": "c8f6481e-e7b5-4d6a-a482-a3a16876e84c",
   "metadata": {
    "id": "c8f6481e-e7b5-4d6a-a482-a3a16876e84c"
   },
   "outputs": [],
   "source": [
    "image_width_scale_meters = 10 #the real world length that corresponds to the image width, in meters"
   ]
  },
  {
   "cell_type": "code",
   "execution_count": null,
   "id": "c19d6169-23cf-4f1e-a0f2-e6318eada1ad",
   "metadata": {
    "id": "c19d6169-23cf-4f1e-a0f2-e6318eada1ad"
   },
   "outputs": [],
   "source": [
    "fps = cap.get(cv2.CAP_PROP_FPS)\n",
    "timeInterval = 1.0/fps\n",
    "\n",
    "velocityValues = [0]\n",
    "accelerationValues = [0]\n",
    "timeValues = [0]\n",
    "\n",
    "for i in range(1, len(xValues)):\n",
    "  velocityValues.append(image_width_scale_meters * ((xValues[i] - xValues[i - 1])/timeInterval))\n",
    "  accelerationValues.append((velocityValues[i] - velocityValues[i - 1])/timeInterval)\n",
    "  timeValues.append(i * timeInterval)"
   ]
  },
  {
   "cell_type": "code",
   "execution_count": null,
   "id": "e36bb45d-d0e4-49cc-b1b4-6a0d514c3f44",
   "metadata": {
    "id": "e36bb45d-d0e4-49cc-b1b4-6a0d514c3f44"
   },
   "outputs": [],
   "source": [
    "plt.plot(timeValues, velocityValues)\n",
    "plt.title(\"Velocity vs. Time\")\n",
    "plt.xlabel(\"Time (s)\")\n",
    "plt.ylabel(\"Velocity (s)\")\n",
    "plt.savefig('./output/output_velocity_graph.png')\n",
    "\n",
    "plt.plot(timeValues, accelerationValues)\n",
    "plt.title(\"Acceleration vs. Time\")\n",
    "plt.xlabel(\"Time (s)\")\n",
    "plt.ylabel(\"Acceleration (m/s^2)\")\n",
    "plt.savefig('./output/output_acceleration_graph.png')"
   ]
  },
  {
   "cell_type": "code",
   "execution_count": null,
   "id": "e53bbdbb-b0f2-41bc-8bf8-dcf01d76d345",
   "metadata": {
    "id": "e53bbdbb-b0f2-41bc-8bf8-dcf01d76d345"
   },
   "outputs": [],
   "source": [
    "df = pd.DataFrame({'time (s)': timeValues, 'velocity (m/s)': velocityValues, 'acceleration (m/s^2)': accelerationValues})\n",
    "df.to_excel('./output/output_data.xlsx')"
   ]
  }
 ],
 "metadata": {
  "colab": {
   "provenance": []
  },
  "kernelspec": {
   "display_name": "Python 3 (ipykernel)",
   "language": "python",
   "name": "python3"
  },
  "language_info": {
   "codemirror_mode": {
    "name": "ipython",
    "version": 3
   },
   "file_extension": ".py",
   "mimetype": "text/x-python",
   "name": "python",
   "nbconvert_exporter": "python",
   "pygments_lexer": "ipython3",
   "version": "3.12.0"
  }
 },
 "nbformat": 4,
 "nbformat_minor": 5
}
